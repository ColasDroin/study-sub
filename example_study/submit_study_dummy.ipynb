{
 "cells": [
  {
   "cell_type": "code",
   "execution_count": 1,
   "metadata": {},
   "outputs": [],
   "source": [
    "from study_sub import StudySub"
   ]
  },
  {
   "cell_type": "code",
   "execution_count": 2,
   "metadata": {},
   "outputs": [],
   "source": [
    "study_sub = StudySub(path_tree = 'study_dummy/tree.yaml', path_python_environment='/Users/cdroin/Desktop/study-sub/.venv')"
   ]
  },
  {
   "cell_type": "code",
   "execution_count": 3,
   "metadata": {},
   "outputs": [
    {
     "name": "stdout",
     "output_type": "stream",
     "text": [
      "Found job at depth 1: study_dummy/base/some_dummy_computations.py\n",
      "Found job at depth 2: study_dummy/base/a_1.0_b_1/some_more_computations.py\n"
     ]
    }
   ],
   "source": [
    "study_sub.configure_jobs()"
   ]
  },
  {
   "cell_type": "code",
   "execution_count": 4,
   "metadata": {},
   "outputs": [],
   "source": [
    "study_sub.generate_run_files()"
   ]
  },
  {
   "cell_type": "code",
   "execution_count": 5,
   "metadata": {},
   "outputs": [
    {
     "name": "stdout",
     "output_type": "stream",
     "text": [
      "Writing submission command for node \"/Users/macbe16879/Desktop/study-sub/example_study/study_dummy/base/\"\n",
      "Jobs status after submission:\n",
      "Running: \n",
      "study_dummy/base/\n",
      "queuing: \n",
      "\n"
     ]
    },
    {
     "name": "stderr",
     "output_type": "stream",
     "text": [
      "/Users/macbe16879/Desktop/study-sub/example_study/study_dummy/base/run.sh: line 2: /Users/cdroin/Desktop/study-sub/.venv/bin/activate: No such file or directory\n"
     ]
    }
   ],
   "source": [
    "study_sub.submit()"
   ]
  },
  {
   "cell_type": "code",
   "execution_count": null,
   "metadata": {},
   "outputs": [],
   "source": []
  }
 ],
 "metadata": {
  "kernelspec": {
   "display_name": ".venv",
   "language": "python",
   "name": "python3"
  },
  "language_info": {
   "codemirror_mode": {
    "name": "ipython",
    "version": 3
   },
   "file_extension": ".py",
   "mimetype": "text/x-python",
   "name": "python",
   "nbconvert_exporter": "python",
   "pygments_lexer": "ipython3",
   "version": "3.12.2"
  }
 },
 "nbformat": 4,
 "nbformat_minor": 2
}
