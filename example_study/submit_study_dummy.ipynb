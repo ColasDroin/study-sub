{
 "cells": [
  {
   "cell_type": "code",
   "execution_count": 1,
   "metadata": {},
   "outputs": [],
   "source": [
    "from study_sub import StudySub"
   ]
  },
  {
   "cell_type": "code",
   "execution_count": 3,
   "metadata": {},
   "outputs": [],
   "source": [
    "study_sub = StudySub(path_tree = 'study_dummy/tree.yaml', path_python_environment='/Users/cdroin/Desktop/study-sub/.venv')"
   ]
  },
  {
   "cell_type": "code",
   "execution_count": 4,
   "metadata": {},
   "outputs": [
    {
     "name": "stdout",
     "output_type": "stream",
     "text": [
      "Found job at depth 1: study_dummy/base/some_dummy_computations.py\n",
      "Found job at depth 2: study_dummy/base/a_1.0_b_1/some_more_computations.py\n"
     ]
    }
   ],
   "source": [
    "study_sub.configure_jobs()"
   ]
  },
  {
   "cell_type": "code",
   "execution_count": null,
   "metadata": {},
   "outputs": [
    {
     "name": "stdout",
     "output_type": "stream",
     "text": [
      "{'study_dummy/base/some_dummy_computations.py': {'gen': 1, 'l_keys': ['base', 'some_dummy_computations']}, 'study_dummy/base/a_1.0_b_1/some_more_computations.py': {'gen': 2, 'l_keys': ['base', 'a_1.0_b_1', 'some_more_computations']}, 'study_dummy/base/a_1.0_b_2/some_more_computations.py': {'gen': 2, 'l_keys': ['base', 'a_1.0_b_2', 'some_more_computations']}, 'study_dummy/base/a_2.0_b_1/some_more_computations.py': {'gen': 2, 'l_keys': ['base', 'a_2.0_b_1', 'some_more_computations']}, 'study_dummy/base/a_2.0_b_2/some_more_computations.py': {'gen': 2, 'l_keys': ['base', 'a_2.0_b_2', 'some_more_computations']}}\n",
      "{'base': {'some_dummy_computations': {'file': 'study_dummy/base/some_dummy_computations.py', 'context': 'cpu', 'submission_type': 'htc_docker', 'htc_flavor': 'longlunch', 'status': 'to_submit'}, 'a_1.0_b_1': {'some_more_computations': {'file': 'study_dummy/base/a_1.0_b_1/some_more_computations.py', 'context': 'cupy', 'submission_type': 'htc_docker', 'htc_flavor': 'longlunch', 'status': 'to_submit'}}, 'a_1.0_b_2': {'some_more_computations': {'file': 'study_dummy/base/a_1.0_b_2/some_more_computations.py', 'context': 'cupy', 'submission_type': 'htc_docker', 'status': 'to_submit', 'htc_flavor': 'longlunch'}}, 'a_2.0_b_1': {'some_more_computations': {'file': 'study_dummy/base/a_2.0_b_1/some_more_computations.py', 'context': 'cupy', 'submission_type': 'htc_docker', 'status': 'to_submit', 'htc_flavor': 'longlunch'}}, 'a_2.0_b_2': {'some_more_computations': {'file': 'study_dummy/base/a_2.0_b_2/some_more_computations.py', 'context': 'cupy', 'submission_type': 'htc_docker', 'status': 'to_submit', 'htc_flavor': 'longlunch'}}}}\n"
     ]
    },
    {
     "ename": "KeyError",
     "evalue": "'run_on'",
     "output_type": "error",
     "traceback": [
      "\u001b[0;31m---------------------------------------------------------------------------\u001b[0m",
      "\u001b[0;31mKeyError\u001b[0m                                  Traceback (most recent call last)",
      "Cell \u001b[0;32mIn[4], line 1\u001b[0m\n\u001b[0;32m----> 1\u001b[0m \u001b[43mstudy_sub\u001b[49m\u001b[38;5;241;43m.\u001b[39;49m\u001b[43mgenerate_run_files\u001b[49m\u001b[43m(\u001b[49m\u001b[43m)\u001b[49m\n",
      "File \u001b[0;32m~/Desktop/study-sub/study_sub/study_sub.py:59\u001b[0m, in \u001b[0;36mStudySub.generate_run_files\u001b[0;34m(self)\u001b[0m\n\u001b[1;32m     57\u001b[0m \u001b[38;5;28mprint\u001b[39m(dic_all_jobs)\n\u001b[1;32m     58\u001b[0m \u001b[38;5;28mprint\u001b[39m(dic_tree)\n\u001b[0;32m---> 59\u001b[0m \u001b[38;5;28;01mif\u001b[39;00m \u001b[38;5;124m\"\u001b[39m\u001b[38;5;124mhtc\u001b[39m\u001b[38;5;124m\"\u001b[39m \u001b[38;5;129;01min\u001b[39;00m \u001b[43mnested_get\u001b[49m\u001b[43m(\u001b[49m\u001b[43mdic_tree\u001b[49m\u001b[43m,\u001b[49m\u001b[43m \u001b[49m\u001b[43ml_keys\u001b[49m\u001b[43m \u001b[49m\u001b[38;5;241;43m+\u001b[39;49m\u001b[43m \u001b[49m\u001b[43m[\u001b[49m\u001b[38;5;124;43m\"\u001b[39;49m\u001b[38;5;124;43mrun_on\u001b[39;49m\u001b[38;5;124;43m\"\u001b[39;49m\u001b[43m]\u001b[49m\u001b[43m)\u001b[49m:\n\u001b[1;32m     60\u001b[0m     generate_run_sh_htc()\n\u001b[1;32m     61\u001b[0m \u001b[38;5;28;01melse\u001b[39;00m:\n",
      "File \u001b[0;32m~/Desktop/study-sub/.venv/lib/python3.12/site-packages/study_gen/_nested_dicts.py:6\u001b[0m, in \u001b[0;36mnested_get\u001b[0;34m(dic, keys)\u001b[0m\n\u001b[1;32m      4\u001b[0m \u001b[38;5;28;01mdef\u001b[39;00m \u001b[38;5;21mnested_get\u001b[39m(dic, keys):\n\u001b[1;32m      5\u001b[0m     \u001b[38;5;28;01mfor\u001b[39;00m key \u001b[38;5;129;01min\u001b[39;00m keys:\n\u001b[0;32m----> 6\u001b[0m         dic \u001b[38;5;241m=\u001b[39m \u001b[43mdic\u001b[49m\u001b[43m[\u001b[49m\u001b[43mkey\u001b[49m\u001b[43m]\u001b[49m\n\u001b[1;32m      7\u001b[0m     \u001b[38;5;28;01mreturn\u001b[39;00m dic\n",
      "File \u001b[0;32m~/Desktop/study-sub/.venv/lib/python3.12/site-packages/ruamel/yaml/comments.py:853\u001b[0m, in \u001b[0;36mCommentedMap.__getitem__\u001b[0;34m(self, key)\u001b[0m\n\u001b[1;32m    851\u001b[0m \u001b[38;5;28;01mdef\u001b[39;00m \u001b[38;5;21m__getitem__\u001b[39m(\u001b[38;5;28mself\u001b[39m, key: Any) \u001b[38;5;241m-\u001b[39m\u001b[38;5;241m>\u001b[39m Any:\n\u001b[1;32m    852\u001b[0m     \u001b[38;5;28;01mtry\u001b[39;00m:\n\u001b[0;32m--> 853\u001b[0m         \u001b[38;5;28;01mreturn\u001b[39;00m \u001b[43mordereddict\u001b[49m\u001b[38;5;241;43m.\u001b[39;49m\u001b[38;5;21;43m__getitem__\u001b[39;49m\u001b[43m(\u001b[49m\u001b[38;5;28;43mself\u001b[39;49m\u001b[43m,\u001b[49m\u001b[43m \u001b[49m\u001b[43mkey\u001b[49m\u001b[43m)\u001b[49m\n\u001b[1;32m    854\u001b[0m     \u001b[38;5;28;01mexcept\u001b[39;00m \u001b[38;5;167;01mKeyError\u001b[39;00m:\n\u001b[1;32m    855\u001b[0m         \u001b[38;5;28;01mfor\u001b[39;00m merged \u001b[38;5;129;01min\u001b[39;00m \u001b[38;5;28mgetattr\u001b[39m(\u001b[38;5;28mself\u001b[39m, merge_attrib, []):\n",
      "\u001b[0;31mKeyError\u001b[0m: 'run_on'"
     ]
    }
   ],
   "source": [
    "study_sub.generate_run_files()"
   ]
  },
  {
   "cell_type": "code",
   "execution_count": null,
   "metadata": {},
   "outputs": [
    {
     "name": "stdout",
     "output_type": "stream",
     "text": [
      "to_submit\n",
      "to_submit\n",
      "to_submit\n",
      "to_submit\n",
      "to_submit\n"
     ]
    }
   ],
   "source": [
    "study_sub.submit()"
   ]
  },
  {
   "cell_type": "code",
   "execution_count": null,
   "metadata": {},
   "outputs": [],
   "source": []
  }
 ],
 "metadata": {
  "kernelspec": {
   "display_name": ".venv",
   "language": "python",
   "name": "python3"
  },
  "language_info": {
   "codemirror_mode": {
    "name": "ipython",
    "version": 3
   },
   "file_extension": ".py",
   "mimetype": "text/x-python",
   "name": "python",
   "nbconvert_exporter": "python",
   "pygments_lexer": "ipython3",
   "version": "3.12.1"
  }
 },
 "nbformat": 4,
 "nbformat_minor": 2
}
