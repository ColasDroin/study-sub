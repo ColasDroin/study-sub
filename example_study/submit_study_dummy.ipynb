{
 "cells": [
  {
   "cell_type": "code",
   "execution_count": 1,
   "metadata": {},
   "outputs": [],
   "source": [
    "from study_sub import StudySub"
   ]
  },
  {
   "cell_type": "code",
   "execution_count": 9,
   "metadata": {},
   "outputs": [],
   "source": [
    "study_sub = StudySub(path_tree = 'study_dummy/tree.yaml', path_python_environment='/afs/cern.ch/work/c/cdroin/private/study-sub/.venv')"
   ]
  },
  {
   "cell_type": "code",
   "execution_count": 10,
   "metadata": {},
   "outputs": [],
   "source": [
    "study_sub.configure_jobs()"
   ]
  },
  {
   "cell_type": "code",
   "execution_count": 11,
   "metadata": {},
   "outputs": [],
   "source": [
    "study_sub.generate_run_files()"
   ]
  },
  {
   "cell_type": "code",
   "execution_count": 12,
   "metadata": {},
   "outputs": [
    {
     "name": "stdout",
     "output_type": "stream",
     "text": [
      "Warning, some jobs are queuing/running and the id-job file is missing... Ignoring them.\n",
      "study_dummy/base/ is already completed.\n",
      "study_dummy/base/a_1.0_b_1/ is already completed.\n",
      "study_dummy/base/a_1.0_b_2/ is already completed.\n",
      "study_dummy/base/a_2.0_b_1/ is already completed.\n",
      "Writing submission command for node \"/afs/cern.ch/work/c/cdroin/private/study-sub/example_study/study_dummy/base/a_2.0_b_2/\"\n",
      "ICIII ['condor_submit', '/afs/cern.ch/work/c/cdroin/private/study-sub/example_study/study_dummy/submission/submission_file.sub']\n",
      "Submitting job(s)\n",
      "ERROR: No AP_REQ message created by kerberos: No credentials cache found\n",
      "\n",
      "ERROR: failed to read any data from /usr/bin/batch_krb5_credential!\n",
      "\n"
     ]
    },
    {
     "ename": "RuntimeError",
     "evalue": "Error in submission: Submitting job(s)",
     "output_type": "error",
     "traceback": [
      "\u001b[0;31m---------------------------------------------------------------------------\u001b[0m",
      "\u001b[0;31mRuntimeError\u001b[0m                              Traceback (most recent call last)",
      "Cell \u001b[0;32mIn[12], line 1\u001b[0m\n\u001b[0;32m----> 1\u001b[0m \u001b[43mstudy_sub\u001b[49m\u001b[38;5;241;43m.\u001b[39;49m\u001b[43msubmit\u001b[49m\u001b[43m(\u001b[49m\u001b[43m)\u001b[49m\n",
      "File \u001b[0;32m/afs/cern.ch/work/c/cdroin/private/study-sub/study_sub/study_sub.py:168\u001b[0m, in \u001b[0;36mStudySub.submit\u001b[0;34m(self, one_generation_at_a_time)\u001b[0m\n\u001b[1;32m    162\u001b[0m dic_submission_files \u001b[38;5;241m=\u001b[39m cluster_submission\u001b[38;5;241m.\u001b[39mwrite_sub_files()\n\u001b[1;32m    163\u001b[0m \u001b[38;5;28;01mfor\u001b[39;00m submission_type, (\n\u001b[1;32m    164\u001b[0m     list_of_jobs,\n\u001b[1;32m    165\u001b[0m     l_submission_filenames,\n\u001b[1;32m    166\u001b[0m     l_context_jobs,\n\u001b[1;32m    167\u001b[0m ) \u001b[38;5;129;01min\u001b[39;00m dic_submission_files\u001b[38;5;241m.\u001b[39mitems():\n\u001b[0;32m--> 168\u001b[0m     \u001b[43mcluster_submission\u001b[49m\u001b[38;5;241;43m.\u001b[39;49m\u001b[43msubmit\u001b[49m\u001b[43m(\u001b[49m\n\u001b[1;32m    169\u001b[0m \u001b[43m        \u001b[49m\u001b[43mlist_of_jobs\u001b[49m\u001b[43m,\u001b[49m\u001b[43m \u001b[49m\u001b[43ml_submission_filenames\u001b[49m\u001b[43m,\u001b[49m\u001b[43m \u001b[49m\u001b[43ml_context_jobs\u001b[49m\u001b[43m,\u001b[49m\u001b[43m \u001b[49m\u001b[43msubmission_type\u001b[49m\n\u001b[1;32m    170\u001b[0m \u001b[43m    \u001b[49m\u001b[43m)\u001b[49m\n\u001b[1;32m    172\u001b[0m \u001b[38;5;66;03m# Update dic_tree from cluster_submission\u001b[39;00m\n\u001b[1;32m    173\u001b[0m \u001b[38;5;28mself\u001b[39m\u001b[38;5;241m.\u001b[39mdic_tree \u001b[38;5;241m=\u001b[39m cluster_submission\u001b[38;5;241m.\u001b[39mdic_tree\n",
      "File \u001b[0;32m/afs/cern.ch/work/c/cdroin/private/study-sub/study_sub/cluster_submission/cluster_submission.py:397\u001b[0m, in \u001b[0;36mClusterSubmission.submit\u001b[0;34m(self, list_of_jobs, l_submission_filenames, l_context_jobs, submission_type)\u001b[0m\n\u001b[1;32m    395\u001b[0m \u001b[38;5;28mprint\u001b[39m(output_error)\n\u001b[1;32m    396\u001b[0m \u001b[38;5;28;01mif\u001b[39;00m \u001b[38;5;124m\"\u001b[39m\u001b[38;5;124mERROR\u001b[39m\u001b[38;5;124m\"\u001b[39m \u001b[38;5;129;01min\u001b[39;00m output_error:\n\u001b[0;32m--> 397\u001b[0m     \u001b[38;5;28;01mraise\u001b[39;00m \u001b[38;5;167;01mRuntimeError\u001b[39;00m(\u001b[38;5;124mf\u001b[39m\u001b[38;5;124m\"\u001b[39m\u001b[38;5;124mError in submission: \u001b[39m\u001b[38;5;132;01m{\u001b[39;00moutput\u001b[38;5;132;01m}\u001b[39;00m\u001b[38;5;124m\"\u001b[39m)\n\u001b[1;32m    398\u001b[0m \u001b[38;5;28;01mfor\u001b[39;00m line \u001b[38;5;129;01min\u001b[39;00m output\u001b[38;5;241m.\u001b[39msplit(\u001b[38;5;124m\"\u001b[39m\u001b[38;5;130;01m\\n\u001b[39;00m\u001b[38;5;124m\"\u001b[39m):\n\u001b[1;32m    399\u001b[0m     \u001b[38;5;28;01mif\u001b[39;00m \u001b[38;5;124m\"\u001b[39m\u001b[38;5;124mhtc\u001b[39m\u001b[38;5;124m\"\u001b[39m \u001b[38;5;129;01min\u001b[39;00m submission_type:\n",
      "\u001b[0;31mRuntimeError\u001b[0m: Error in submission: Submitting job(s)"
     ]
    }
   ],
   "source": [
    "study_sub.submit()"
   ]
  },
  {
   "cell_type": "code",
   "execution_count": null,
   "metadata": {},
   "outputs": [],
   "source": []
  }
 ],
 "metadata": {
  "kernelspec": {
   "display_name": ".venv",
   "language": "python",
   "name": "python3"
  },
  "language_info": {
   "codemirror_mode": {
    "name": "ipython",
    "version": 3
   },
   "file_extension": ".py",
   "mimetype": "text/x-python",
   "name": "python",
   "nbconvert_exporter": "python",
   "pygments_lexer": "ipython3",
   "version": "3.12.2"
  }
 },
 "nbformat": 4,
 "nbformat_minor": 2
}
