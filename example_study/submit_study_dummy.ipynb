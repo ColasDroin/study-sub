{
 "cells": [
  {
   "cell_type": "code",
   "execution_count": 1,
   "metadata": {},
   "outputs": [],
   "source": [
    "from study_sub import StudySub"
   ]
  },
  {
   "cell_type": "code",
   "execution_count": 2,
   "metadata": {},
   "outputs": [],
   "source": [
    "study_sub = StudySub(path_tree = 'study_dummy/tree.yaml')"
   ]
  },
  {
   "cell_type": "code",
   "execution_count": 3,
   "metadata": {},
   "outputs": [],
   "source": [
    "study_sub.generate_config_sub()\n"
   ]
  },
  {
   "cell_type": "code",
   "execution_count": 4,
   "metadata": {},
   "outputs": [
    {
     "name": "stdout",
     "output_type": "stream",
     "text": [
      "{'study_dummy/base/some_dummy_computations.py': {'gen': 1, 'l_keys': ['base', 'some_dummy_computations']}, 'study_dummy/base/a_1.0_b_1/some_more_computations.py': {'gen': 2, 'l_keys': ['base', 'a_1.0_b_1', 'some_more_computations']}, 'study_dummy/base/a_1.0_b_2/some_more_computations.py': {'gen': 2, 'l_keys': ['base', 'a_1.0_b_2', 'some_more_computations']}, 'study_dummy/base/a_2.0_b_1/some_more_computations.py': {'gen': 2, 'l_keys': ['base', 'a_2.0_b_1', 'some_more_computations']}, 'study_dummy/base/a_2.0_b_2/some_more_computations.py': {'gen': 2, 'l_keys': ['base', 'a_2.0_b_2', 'some_more_computations']}}\n"
     ]
    }
   ],
   "source": [
    "study_sub.submit()"
   ]
  },
  {
   "cell_type": "code",
   "execution_count": null,
   "metadata": {},
   "outputs": [],
   "source": []
  }
 ],
 "metadata": {
  "kernelspec": {
   "display_name": ".venv",
   "language": "python",
   "name": "python3"
  },
  "language_info": {
   "codemirror_mode": {
    "name": "ipython",
    "version": 3
   },
   "file_extension": ".py",
   "mimetype": "text/x-python",
   "name": "python",
   "nbconvert_exporter": "python",
   "pygments_lexer": "ipython3",
   "version": "3.12.2"
  }
 },
 "nbformat": 4,
 "nbformat_minor": 2
}
