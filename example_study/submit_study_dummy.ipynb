{
 "cells": [
  {
   "cell_type": "code",
   "execution_count": 1,
   "metadata": {},
   "outputs": [],
   "source": [
    "from study_sub import StudySub"
   ]
  },
  {
   "cell_type": "code",
   "execution_count": 2,
   "metadata": {},
   "outputs": [],
   "source": [
    "study_sub = StudySub(path_tree = 'study_dummy/tree.yaml', path_python_environment='/Users/cdroin/Desktop/study-sub/.venv')"
   ]
  },
  {
   "cell_type": "code",
   "execution_count": 3,
   "metadata": {},
   "outputs": [],
   "source": [
    "study_sub.configure_jobs()"
   ]
  },
  {
   "cell_type": "code",
   "execution_count": 4,
   "metadata": {},
   "outputs": [],
   "source": [
    "study_sub.generate_run_files()"
   ]
  },
  {
   "cell_type": "code",
   "execution_count": 5,
   "metadata": {},
   "outputs": [
    {
     "ename": "FileNotFoundError",
     "evalue": "[Errno 2] No such file or directory: '/Users/macbe16879/Desktop/study-sub/example_study/submission/submission_file.sub'",
     "output_type": "error",
     "traceback": [
      "\u001b[0;31m---------------------------------------------------------------------------\u001b[0m",
      "\u001b[0;31mFileNotFoundError\u001b[0m                         Traceback (most recent call last)",
      "Cell \u001b[0;32mIn[5], line 1\u001b[0m\n\u001b[0;32m----> 1\u001b[0m \u001b[43mstudy_sub\u001b[49m\u001b[38;5;241;43m.\u001b[39;49m\u001b[43msubmit\u001b[49m\u001b[43m(\u001b[49m\u001b[43m)\u001b[49m\n",
      "File \u001b[0;32m~/Desktop/study-sub/study_sub/study_sub.py:171\u001b[0m, in \u001b[0;36mStudySub.submit\u001b[0;34m(self, one_generation_at_a_time)\u001b[0m\n\u001b[1;32m    161\u001b[0m cluster_submission \u001b[38;5;241m=\u001b[39m ClusterSubmission(\n\u001b[1;32m    162\u001b[0m     \u001b[38;5;28mself\u001b[39m\u001b[38;5;241m.\u001b[39mstudy_name,\n\u001b[1;32m    163\u001b[0m     l_jobs_to_submit,\n\u001b[0;32m   (...)\u001b[0m\n\u001b[1;32m    167\u001b[0m     \u001b[38;5;28mself\u001b[39m\u001b[38;5;241m.\u001b[39mabs_path,\n\u001b[1;32m    168\u001b[0m )\n\u001b[1;32m    170\u001b[0m \u001b[38;5;66;03m# Write and submit the submission files\u001b[39;00m\n\u001b[0;32m--> 171\u001b[0m dic_submission_files \u001b[38;5;241m=\u001b[39m \u001b[43mcluster_submission\u001b[49m\u001b[38;5;241;43m.\u001b[39;49m\u001b[43mwrite_sub_files\u001b[49m\u001b[43m(\u001b[49m\u001b[43m)\u001b[49m\n\u001b[1;32m    172\u001b[0m \u001b[38;5;28;01mfor\u001b[39;00m submission_type, (\n\u001b[1;32m    173\u001b[0m     list_of_jobs,\n\u001b[1;32m    174\u001b[0m     l_submission_filenames,\n\u001b[1;32m    175\u001b[0m     l_context_jobs,\n\u001b[1;32m    176\u001b[0m ) \u001b[38;5;129;01min\u001b[39;00m dic_submission_files\u001b[38;5;241m.\u001b[39mitems():\n\u001b[1;32m    177\u001b[0m     cluster_submission\u001b[38;5;241m.\u001b[39msubmit(\n\u001b[1;32m    178\u001b[0m         list_of_jobs, l_submission_filenames, l_context_jobs, submission_type\n\u001b[1;32m    179\u001b[0m     )\n",
      "File \u001b[0;32m~/Desktop/study-sub/study_sub/cluster_submission/cluster_submission.py:310\u001b[0m, in \u001b[0;36mClusterSubmission.write_sub_files\u001b[0;34m(self)\u001b[0m\n\u001b[1;32m    307\u001b[0m     l_context_jobs\u001b[38;5;241m.\u001b[39mappend(nested_get(\u001b[38;5;28mself\u001b[39m\u001b[38;5;241m.\u001b[39mdic_tree, l_keys \u001b[38;5;241m+\u001b[39m [\u001b[38;5;124m\"\u001b[39m\u001b[38;5;124mcontext\u001b[39m\u001b[38;5;124m\"\u001b[39m]))\n\u001b[1;32m    309\u001b[0m \u001b[38;5;66;03m# Write submission files\u001b[39;00m\n\u001b[0;32m--> 310\u001b[0m l_submission_filenames \u001b[38;5;241m=\u001b[39m \u001b[38;5;28;43mself\u001b[39;49m\u001b[38;5;241;43m.\u001b[39;49m\u001b[43m_write_sub_files\u001b[49m\u001b[43m(\u001b[49m\n\u001b[1;32m    311\u001b[0m \u001b[43m    \u001b[49m\u001b[38;5;28;43mself\u001b[39;49m\u001b[38;5;241;43m.\u001b[39;49m\u001b[43mpath_submission_file\u001b[49m\u001b[43m,\u001b[49m\n\u001b[1;32m    312\u001b[0m \u001b[43m    \u001b[49m\u001b[43mrunning_jobs\u001b[49m\u001b[43m,\u001b[49m\n\u001b[1;32m    313\u001b[0m \u001b[43m    \u001b[49m\u001b[43mqueuing_jobs\u001b[49m\u001b[43m,\u001b[49m\n\u001b[1;32m    314\u001b[0m \u001b[43m    \u001b[49m\u001b[43mlist_of_jobs\u001b[49m\u001b[43m,\u001b[49m\n\u001b[1;32m    315\u001b[0m \u001b[43m    \u001b[49m\u001b[43ml_context_jobs\u001b[49m\u001b[43m,\u001b[49m\n\u001b[1;32m    316\u001b[0m \u001b[43m    \u001b[49m\u001b[43msubmission_type\u001b[49m\u001b[43m,\u001b[49m\n\u001b[1;32m    317\u001b[0m \u001b[43m\u001b[49m\u001b[43m)\u001b[49m\n\u001b[1;32m    319\u001b[0m \u001b[38;5;66;03m# Record submission files and context\u001b[39;00m\n\u001b[1;32m    320\u001b[0m dic_submission_files[submission_type] \u001b[38;5;241m=\u001b[39m (\n\u001b[1;32m    321\u001b[0m     list_of_jobs,\n\u001b[1;32m    322\u001b[0m     l_submission_filenames,\n\u001b[1;32m    323\u001b[0m     l_context_jobs,\n\u001b[1;32m    324\u001b[0m )\n",
      "File \u001b[0;32m~/Desktop/study-sub/study_sub/cluster_submission/cluster_submission.py:279\u001b[0m, in \u001b[0;36mClusterSubmission._write_sub_files\u001b[0;34m(self, sub_filename, running_jobs, queuing_jobs, list_of_jobs, l_context_jobs, submission_type)\u001b[0m\n\u001b[1;32m    274\u001b[0m     \u001b[38;5;28;01mreturn\u001b[39;00m \u001b[38;5;28mself\u001b[39m\u001b[38;5;241m.\u001b[39m_write_sub_files_slurm_docker(\n\u001b[1;32m    275\u001b[0m         sub_filename, running_jobs, queuing_jobs, list_of_jobs, l_context_jobs\n\u001b[1;32m    276\u001b[0m     )\n\u001b[1;32m    278\u001b[0m \u001b[38;5;28;01melse\u001b[39;00m:\n\u001b[0;32m--> 279\u001b[0m     \u001b[38;5;28;01mreturn\u001b[39;00m \u001b[38;5;28;43mself\u001b[39;49m\u001b[38;5;241;43m.\u001b[39;49m\u001b[43m_write_sub_file\u001b[49m\u001b[43m(\u001b[49m\n\u001b[1;32m    280\u001b[0m \u001b[43m        \u001b[49m\u001b[43msub_filename\u001b[49m\u001b[43m,\u001b[49m\n\u001b[1;32m    281\u001b[0m \u001b[43m        \u001b[49m\u001b[43mrunning_jobs\u001b[49m\u001b[43m,\u001b[49m\n\u001b[1;32m    282\u001b[0m \u001b[43m        \u001b[49m\u001b[43mqueuing_jobs\u001b[49m\u001b[43m,\u001b[49m\n\u001b[1;32m    283\u001b[0m \u001b[43m        \u001b[49m\u001b[43mlist_of_jobs\u001b[49m\u001b[43m,\u001b[49m\n\u001b[1;32m    284\u001b[0m \u001b[43m        \u001b[49m\u001b[43ml_context_jobs\u001b[49m\u001b[43m,\u001b[49m\n\u001b[1;32m    285\u001b[0m \u001b[43m        \u001b[49m\u001b[43msubmission_type\u001b[49m\u001b[43m,\u001b[49m\n\u001b[1;32m    286\u001b[0m \u001b[43m    \u001b[49m\u001b[43m)\u001b[49m\n",
      "File \u001b[0;32m~/Desktop/study-sub/study_sub/cluster_submission/cluster_submission.py:231\u001b[0m, in \u001b[0;36mClusterSubmission._write_sub_file\u001b[0;34m(self, sub_filename, running_jobs, queuing_jobs, list_of_jobs, l_context_jobs, submission_type)\u001b[0m\n\u001b[1;32m    228\u001b[0m ok_to_submit \u001b[38;5;241m=\u001b[39m \u001b[38;5;28;01mFalse\u001b[39;00m\n\u001b[1;32m    230\u001b[0m \u001b[38;5;66;03m# Write the submission file\u001b[39;00m\n\u001b[0;32m--> 231\u001b[0m \u001b[38;5;28;01mwith\u001b[39;00m \u001b[38;5;28;43mopen\u001b[39;49m\u001b[43m(\u001b[49m\u001b[43msub_filename\u001b[49m\u001b[43m,\u001b[49m\u001b[43m \u001b[49m\u001b[38;5;124;43m\"\u001b[39;49m\u001b[38;5;124;43mw\u001b[39;49m\u001b[38;5;124;43m\"\u001b[39;49m\u001b[43m)\u001b[49m \u001b[38;5;28;01mas\u001b[39;00m fid:\n\u001b[1;32m    232\u001b[0m     \u001b[38;5;28;01mfor\u001b[39;00m idx, job \u001b[38;5;129;01min\u001b[39;00m \u001b[38;5;28menumerate\u001b[39m(list_of_jobs):\n\u001b[1;32m    233\u001b[0m         \u001b[38;5;66;03m# Get corresponding path job (remove the python file name)\u001b[39;00m\n\u001b[1;32m    234\u001b[0m         path_job, abs_path_job \u001b[38;5;241m=\u001b[39m \u001b[38;5;28mself\u001b[39m\u001b[38;5;241m.\u001b[39mreturn_abs_path_job(list_of_jobs[\u001b[38;5;241m0\u001b[39m])\n",
      "\u001b[0;31mFileNotFoundError\u001b[0m: [Errno 2] No such file or directory: '/Users/macbe16879/Desktop/study-sub/example_study/submission/submission_file.sub'"
     ]
    }
   ],
   "source": [
    "study_sub.submit()"
   ]
  },
  {
   "cell_type": "code",
   "execution_count": null,
   "metadata": {},
   "outputs": [],
   "source": []
  }
 ],
 "metadata": {
  "kernelspec": {
   "display_name": ".venv",
   "language": "python",
   "name": "python3"
  },
  "language_info": {
   "codemirror_mode": {
    "name": "ipython",
    "version": 3
   },
   "file_extension": ".py",
   "mimetype": "text/x-python",
   "name": "python",
   "nbconvert_exporter": "python",
   "pygments_lexer": "ipython3",
   "version": "3.12.2"
  }
 },
 "nbformat": 4,
 "nbformat_minor": 2
}
