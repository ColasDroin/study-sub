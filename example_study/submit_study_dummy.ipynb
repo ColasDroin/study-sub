{
 "cells": [
  {
   "cell_type": "code",
   "execution_count": 11,
   "metadata": {},
   "outputs": [],
   "source": [
    "from study_sub import StudySub"
   ]
  },
  {
   "cell_type": "code",
   "execution_count": 12,
   "metadata": {},
   "outputs": [],
   "source": [
    "study_sub = StudySub(path_tree = 'study_dummy/tree.yaml', path_python_environment='/afs/cern.ch/work/c/cdroin/private/study-sub/.venv')"
   ]
  },
  {
   "cell_type": "code",
   "execution_count": 13,
   "metadata": {},
   "outputs": [],
   "source": [
    "study_sub.configure_jobs()"
   ]
  },
  {
   "cell_type": "code",
   "execution_count": 14,
   "metadata": {},
   "outputs": [],
   "source": [
    "study_sub.generate_run_files()"
   ]
  },
  {
   "cell_type": "code",
   "execution_count": 15,
   "metadata": {},
   "outputs": [
    {
     "name": "stdout",
     "output_type": "stream",
     "text": [
      "study_dummy/base/ is already completed.\n",
      "study_dummy/base/a_1.0_b_1/ is already completed.\n",
      "study_dummy/base/a_1.0_b_2/ is already completed.\n",
      "study_dummy/base/a_2.0_b_1/ is already completed.\n",
      "study_dummy/base/a_2.0_b_2/ is already completed.\n",
      "No job being submitted.\n",
      "Jobs status after submission:\n",
      "Running: \n",
      "\n",
      "queuing: \n",
      "\n"
     ]
    }
   ],
   "source": [
    "study_sub.submit()"
   ]
  },
  {
   "cell_type": "code",
   "execution_count": null,
   "metadata": {},
   "outputs": [],
   "source": []
  }
 ],
 "metadata": {
  "kernelspec": {
   "display_name": ".venv",
   "language": "python",
   "name": "python3"
  },
  "language_info": {
   "codemirror_mode": {
    "name": "ipython",
    "version": 3
   },
   "file_extension": ".py",
   "mimetype": "text/x-python",
   "name": "python",
   "nbconvert_exporter": "python",
   "pygments_lexer": "ipython3",
   "version": "3.12.2"
  }
 },
 "nbformat": 4,
 "nbformat_minor": 2
}
